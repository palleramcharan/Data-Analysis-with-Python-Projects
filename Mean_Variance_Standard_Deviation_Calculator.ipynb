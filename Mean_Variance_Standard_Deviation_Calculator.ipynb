{
  "nbformat": 4,
  "nbformat_minor": 0,
  "metadata": {
    "colab": {
      "name": "Mean-Variance-Standard Deviation Calculator.ipynb",
      "provenance": [],
      "collapsed_sections": [],
      "authorship_tag": "ABX9TyNvquObBDaQKdyUQ43JQf1T"
    },
    "kernelspec": {
      "name": "python3",
      "display_name": "Python 3"
    },
    "language_info": {
      "name": "python"
    }
  },
  "cells": [
    {
      "cell_type": "markdown",
      "metadata": {
        "id": "BSjoPin19HXx"
      },
      "source": [
        "# Assignment\n",
        "\n",
        "Create a function named `calculate()` in `mean_var_std.py` that uses Numpy to output the mean, variance, standard deviation, max, min, and sum of the rows, columns, and elements in a 3 x 3 matrix. \n",
        "\n",
        "The input of the function should be a list containing 9 digits. The function should convert the list into a 3 x 3 Numpy array, and then return a dictionary containing the mean, variance, standard deviation, max, min, and sum along both axes and for the flattened matrix. \n",
        "\n",
        "The returned dictionary should follow this format:\n",
        "```py\n",
        "{\n",
        "  'mean': [axis1, axis2, flattened],\n",
        "  'variance': [axis1, axis2, flattened],\n",
        "  'standard deviation': [axis1, axis2, flattened],\n",
        "  'max': [axis1, axis2, flattened],\n",
        "  'min': [axis1, axis2, flattened],\n",
        "  'sum': [axis1, axis2, flattened]\n",
        "}\n",
        "```\n",
        "\n",
        "If a list containing less than 9 elements is passed into the function, it should raise a `ValueError` exception with the message: \"List must contain nine numbers.\" The values in the returned dictionary should be lists and not Numpy arrays.\n",
        "\n",
        "For example, `calculate([0,1,2,3,4,5,6,7,8])` should return:\n",
        "```py\n",
        "{\n",
        "  'mean': [[3.0, 4.0, 5.0], [1.0, 4.0, 7.0], 4.0], \n",
        "  'variance': [[6.0, 6.0, 6.0], [0.6666666666666666, 0.6666666666666666, 0.6666666666666666], 6.666666666666667], \n",
        "  'standard deviation': [[2.449489742783178, 2.449489742783178, 2.449489742783178], [0.816496580927726, 0.816496580927726, 0.816496580927726], 2.581988897471611],\n",
        "  'max': [[6, 7, 8], [2, 5, 8], 8],\n",
        "  'min': [[0, 1, 2], [0, 3, 6], 0],\n",
        "  'sum': [[9, 12, 15], [3, 12, 21], 36]\n",
        "}\n",
        "\n"
      ]
    },
    {
      "cell_type": "markdown",
      "metadata": {
        "id": "2Q8gWqZY9kIH"
      },
      "source": [
        "#Solution"
      ]
    },
    {
      "cell_type": "code",
      "metadata": {
        "colab": {
          "base_uri": "https://localhost:8080/"
        },
        "id": "0WVscbcQf9Pz",
        "outputId": "8149711e-55d9-4c58-af95-4f36fde0b103"
      },
      "source": [
        "list= [0,1,2,3,4,5,6,7,8]\n",
        "\n",
        "def calculate(list):\n",
        "  if len(list) != 9:\n",
        "    raise ValueError(\"List must contain nine numbers.\")\n",
        "  \n",
        "  ls=np.array(list)\n",
        "  ls=ls.reshape(3,3)\n",
        "  mean_rows=[ls[0,0:3].mean(),ls[1,0:3].mean(),ls[2,0:3].mean()]\n",
        "  mean_columns=[ls[0:3,0].mean(),ls[0:3,1].mean(),ls[0:3,2].mean()]\n",
        "\n",
        "  var_rows=[ls[0,0:3].var(),ls[1,0:3].var(),ls[2,0:3].var()]\n",
        "  var_columns=[ls[0:3,0].var(),ls[0:3,1].var(),ls[0:3,2].var()]\n",
        "\n",
        "  std_rows=[ls[0,0:3].std(),ls[1,0:3].std(),ls[2,0:3].std()]\n",
        "  std_columns=[ls[0:3,0].std(),ls[0:3,1].std(),ls[0:3,2].std()]\n",
        "\n",
        "  min_rows=[ls[0,0:3].min(),ls[1,0:3].min(),ls[2,0:3].min()]\n",
        "  min_columns=[ls[0:3,0].min(),ls[0:3,1].min(),ls[0:3,2].min()]\n",
        "\n",
        "  max_rows=[ls[0,0:3].max(),ls[1,0:3].max(),ls[2,0:3].max()]\n",
        "  max_columns=[ls[0:3,0].max(),ls[0:3,1].max(),ls[0:3,2].max()]\n",
        "\n",
        "  sum_rows=[ls[0,0:3].sum(),ls[1,0:3].sum(),ls[2,0:3].sum()]\n",
        "  sum_columns=[ls[0:3,0].sum(),ls[0:3,1].sum(),ls[0:3,2].sum()]\n",
        "\n",
        "  return{\n",
        "  'mean': [mean_columns, mean_rows, ls.mean()],\n",
        "  'variance': [var_columns, var_rows, ls.var()],\n",
        "  'standard deviation': [std_columns, std_rows, ls.std()],\n",
        "  'max': [max_columns, max_rows, ls.max()],\n",
        "  'min': [min_columns, min_rows, ls.min()],\n",
        "  'sum': [sum_columns, sum_rows, ls.sum()]\n",
        "  }\n",
        "\n",
        "calculate(list)"
      ],
      "execution_count": 140,
      "outputs": [
        {
          "output_type": "execute_result",
          "data": {
            "text/plain": [
              "{'max': [[6, 7, 8], [2, 5, 8], 8],\n",
              " 'mean': [[3.0, 4.0, 5.0], [1.0, 4.0, 7.0], 4.0],\n",
              " 'min': [[0, 1, 2], [0, 3, 6], 0],\n",
              " 'standard deviation': [[2.449489742783178,\n",
              "   2.449489742783178,\n",
              "   2.449489742783178],\n",
              "  [0.816496580927726, 0.816496580927726, 0.816496580927726],\n",
              "  2.581988897471611],\n",
              " 'sum': [[9, 12, 15], [3, 12, 21], 36],\n",
              " 'variance': [[6.0, 6.0, 6.0],\n",
              "  [0.6666666666666666, 0.6666666666666666, 0.6666666666666666],\n",
              "  6.666666666666667]}"
            ]
          },
          "metadata": {
            "tags": []
          },
          "execution_count": 140
        }
      ]
    },
    {
      "cell_type": "markdown",
      "metadata": {
        "id": "G5eCIznc-Ghr"
      },
      "source": [
        "https://replit.com/@RamCharan6/boilerplate-mean-variance-standard-deviation-calculator#mean_var_std.py"
      ]
    },
    {
      "cell_type": "markdown",
      "metadata": {
        "id": "dORAObwK9DuJ"
      },
      "source": [
        "Option 2"
      ]
    },
    {
      "cell_type": "code",
      "metadata": {
        "colab": {
          "base_uri": "https://localhost:8080/"
        },
        "id": "z4gzOGmKhac-",
        "outputId": "4b79c9c3-19d2-415c-fe0d-1bf1c1f0fc02"
      },
      "source": [
        "import numpy as np\n",
        "list= [0,1,2,3,4,5,6,7,8]\n",
        "\n",
        "\n",
        "if len(list) == 9:\n",
        "  arr=np.array(list)\n",
        "  arr1=arr.reshape(3,3)\n",
        "  print('mean:',arr1.mean(axis=0),',',arr1.mean(axis=1),',',arr1.mean())\n",
        "  print(\" \")\n",
        "  print('Varience:',arr1.var(axis=0),',',arr1.var(axis=1),',',arr1.var())\n",
        "  print(\" \")\n",
        "  print('Standard Deviation:',arr1.std(axis=0),',',arr1.std(axis=1),',',arr1.std())\n",
        "  print(\" \")\n",
        "  print('max:',arr1.max(axis=0),',',arr1.max(axis=1),',',arr1.max())\n",
        "  print(\" \")\n",
        "  print('min:',arr1.min(axis=0),',',arr1.min(axis=1),',',arr1.min())\n",
        "  print(\" \")\n",
        "  print('sum:',arr1.sum(axis=0),',',arr1.sum(axis=1),',',arr1.sum())\n",
        "elif len(list) != 9:\n",
        "  print('List must contain nine numbers.')\n",
        "\n"
      ],
      "execution_count": 141,
      "outputs": [
        {
          "output_type": "stream",
          "text": [
            "mean: [3. 4. 5.] , [1. 4. 7.] , 4.0\n",
            " \n",
            "Varience: [6. 6. 6.] , [0.66666667 0.66666667 0.66666667] , 6.666666666666667\n",
            " \n",
            "Standard Deviation: [2.44948974 2.44948974 2.44948974] , [0.81649658 0.81649658 0.81649658] , 2.581988897471611\n",
            " \n",
            "max: [6 7 8] , [2 5 8] , 8\n",
            " \n",
            "min: [0 1 2] , [0 3 6] , 0\n",
            " \n",
            "sum: [ 9 12 15] , [ 3 12 21] , 36\n"
          ],
          "name": "stdout"
        }
      ]
    }
  ]
}